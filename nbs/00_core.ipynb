{
 "cells": [
  {
   "cell_type": "markdown",
   "metadata": {},
   "source": [
    "# core\n",
    "\n",
    "> A simple DSL for running tasks on string inputs. Built with parsing URLs in mind."
   ]
  },
  {
   "cell_type": "code",
   "execution_count": null,
   "metadata": {},
   "outputs": [],
   "source": [
    "#| default_exp core"
   ]
  },
  {
   "cell_type": "markdown",
   "metadata": {},
   "source": [
    "A recipe consists of two lines.\n",
    "```\n",
    "input: <some_txt>\n",
    "actions: <step_name>.<other_step_name>\n",
    "```\n",
    "\n",
    "`input` is a string (could be a URL, or an ip address, or a word, anything).\n",
    "`actions` is a dot-seperated string representation of actions to apply to the `input` in a chained manner."
   ]
  },
  {
   "cell_type": "code",
   "execution_count": null,
   "metadata": {},
   "outputs": [],
   "source": [
    "#| export\n",
    "\n",
    "from fastcore.all import * \n",
    "\n",
    "class Recipe:\n",
    "    \"A recipe that can be loaded from a file and executed\"\n",
    "    def __init__(self, name=None, input=None, actions=None):\n",
    "        store_attr()\n",
    "        \n",
    "    def __repr__(self): \n",
    "        return basic_repr('name,input,actions')(self)\n",
    "    \n",
    "    @classmethod\n",
    "    def from_file(cls, path):\n",
    "        \"Load recipe from a .recipe file\"\n",
    "        p = Path(path)\n",
    "        lines = p.read_text().splitlines()\n",
    "        d = {}\n",
    "        for line in lines:\n",
    "            if ':' not in line: continue\n",
    "            k,v = line.split(':', 1)\n",
    "            d[k.strip()] = v.strip()\n",
    "        return cls(name=p.stem, **d)"
   ]
  },
  {
   "cell_type": "markdown",
   "metadata": {},
   "source": [
    "Let's try to read in a recipe file."
   ]
  },
  {
   "cell_type": "code",
   "execution_count": null,
   "metadata": {},
   "outputs": [
    {
     "name": "stdout",
     "output_type": "stream",
     "text": [
      "Recipe(name='tmp9s5dlejd', input='<some_txt>', actions='<step_name>.<other_step_name>')\n"
     ]
    }
   ],
   "source": [
    "import tempfile\n",
    "import os\n",
    "\n",
    "# Create and use the temp file\n",
    "with tempfile.NamedTemporaryFile(mode='w', delete=False) as temp:\n",
    "    temp.write(\"\"\"input: <some_txt>\n",
    "actions: <step_name>.<other_step_name>\"\"\")\n",
    "    temp_path = temp.name\n",
    "\n",
    "recipe = Recipe.from_file(temp_path)\n",
    "print(recipe)\n",
    "\n",
    "# Manually delete the file when done\n",
    "os.unlink(temp_path)"
   ]
  },
  {
   "cell_type": "markdown",
   "metadata": {},
   "source": [
    "So far so good. But let's see if we can parse the `actions` string to a representation that will be easier to use."
   ]
  },
  {
   "cell_type": "code",
   "execution_count": null,
   "metadata": {},
   "outputs": [],
   "source": [
    "#| exporti\n",
    "\n",
    "def parse_action(action_str):\n",
    "    \"Parse a single action string like 'func|arg1=val1,arg2=val2' into (func_name, kwargs)\"\n",
    "    if '|' not in action_str: return action_str.strip(), {}\n",
    "    fname, args = action_str.split('|')\n",
    "    fname = fname.strip()\n",
    "    if not args: return fname, {}\n",
    "    \n",
    "    # Split only on commas that are between key=value pairs\n",
    "    kwargs = {}\n",
    "    current_key = None\n",
    "    current_val = []\n",
    "\n",
    "    rest = args\n",
    "    while True:\n",
    "        current_key, rest = rest[:args.index('=')], rest[args.index('=')+1:]\n",
    "        if ',' not in rest:\n",
    "            current_val = rest\n",
    "            break\n",
    "        else:\n",
    "            comma_idx = rest.index(',')\n",
    "            if comma_idx == 0:  # period is an arg\n",
    "                current_val = ','\n",
    "                if len(rest) == 1: break  # no more args\n",
    "                else: rest = rest[2:]  # we have at least one more key=val pair to process \n",
    "            else:  # comma is not an arg but a key=val pair separator OR a value with a comma, for instance the string \"a,b\"\n",
    "                if '=' in rest:\n",
    "                    current_val, rest = rest[:comma_idx], rest[comma_idx+1:]\n",
    "                    # When we find a comma before an equals in the rest of the string\n",
    "                    if ',' in rest and (rest.index(',') < rest.index('=')):\n",
    "                        raise ValueError(\n",
    "                            f\"Invalid argument format in '{args}': Found a comma before key=value pair.\\n\"\n",
    "                            \"When using multiple arguments:\\n\"\n",
    "                            \"1. Use key1=val1,key2=val2 format\\n\"\n",
    "                            \"2. Commas can only appear between key=value pairs\\n\"\n",
    "                            \"Hint: If you need commas in a value, use only one argument (key=val1,val2)\"\n",
    "                        )\n",
    "                else:\n",
    "                    current_val = rest\n",
    "                    break\n",
    "            #\n",
    "        kwargs[current_key] = current_val\n",
    "        current_key = None\n",
    "\n",
    "    if current_key:\n",
    "        kwargs[current_key] = current_val\n",
    "\n",
    "    for value in kwargs.values():\n",
    "        if '=' in value and len(kwargs) > 1:\n",
    "            raise ValueError(\n",
    "                f\"Invalid argument format in '{args}': Found multiple equals signs in one argument.\\n\"\n",
    "                \"Arguments must be either:\\n\"\n",
    "                \"1. Single argument: func|key=any value with = or ,\\n\"\n",
    "                \"2. Multiple arguments: func|key1=val1,key2=val2\\n\"\n",
    "                \"Hint: You cannot mix these styles - choose one approach\"\n",
    "        )\n",
    "\n",
    "    kwargs = {k.strip(): v.strip() for k,v in kwargs.items()}\n",
    "    \n",
    "    return fname, kwargs"
   ]
  },
  {
   "cell_type": "code",
   "execution_count": null,
   "metadata": {},
   "outputs": [],
   "source": [
    "# Test valid cases\n",
    "test_eq(parse_action(\"func\"), (\"func\", {}))\n",
    "test_eq(parse_action(\"func|arg=val\"), (\"func\", {\"arg\": \"val\"}))\n",
    "test_eq(parse_action(\"func|arg=val1,val2\"), (\"func\", {\"arg\": \"val1,val2\"}))  # Single arg with comma\n",
    "test_eq(parse_action(\"func|arg1=val1,arg2=val2\"), (\"func\", {\"arg1\": \"val1\", \"arg2\": \"val2\"}))\n",
    "test_eq(parse_action(\"join|sep=,\"), (\"join\", {\"sep\": \",\"}))\n",
    "test_eq(parse_action(\"func|arg=a=b\"), (\"func\", {\"arg\": \"a=b\"}))\n",
    "\n",
    "# Test invalid cases - comma before key=value\n",
    "test_fail(lambda: parse_action(\"func|arg1=val1,val2,arg2=val3\"), \n",
    "         contains=\"Invalid argument format in\")\n",
    "test_fail(lambda: parse_action(\"func|arg1=val1,badpart,arg2=val2\"), \n",
    "         contains=\"Found a comma before key=value pair\")\n",
    "\n",
    "# Test invalid cases - multiple equals in multiple arguments\n",
    "test_fail(lambda: parse_action(\"func|arg1=a=b,arg2=c\"), \n",
    "         contains=\"Found multiple equals signs in one argument\")\n",
    "test_fail(lambda: parse_action(\"func|key1=val1,key2=a=b\"), \n",
    "         contains=\"Found multiple equals signs in one argument\")\n",
    "\n",
    "# Show that single argument can have multiple equals\n",
    "test_eq(parse_action(\"func|arg=a=b=c\"), (\"func\", {\"arg\": \"a=b=c\"}))"
   ]
  },
  {
   "cell_type": "markdown",
   "metadata": {},
   "source": [
    "This is good, but our specification calls for the ability to chain methods and parse them from a dot-seperated string.\n",
    "\n",
    "Let's implement this now."
   ]
  },
  {
   "cell_type": "code",
   "execution_count": null,
   "metadata": {},
   "outputs": [],
   "source": [
    "#| exporti\n",
    "\n",
    "def parse_actions(actions_str):\n",
    "    \"Parse a chain of actions like 'f1|a=1.f2|b=2' into a list of (func_name, kwargs)\"\n",
    "    return L(actions_str.split('.')).map(parse_action)"
   ]
  },
  {
   "cell_type": "code",
   "execution_count": null,
   "metadata": {},
   "outputs": [],
   "source": [
    "# Single action chain\n",
    "test_eq(parse_actions(\"func\"), \n",
    "       L([(\"func\", {})]))\n",
    "\n",
    "# Multiple actions without args\n",
    "test_eq(parse_actions(\"func1.func2.func3\"), \n",
    "       L([(\"func1\", {}), (\"func2\", {}), (\"func3\", {})]))\n",
    "\n",
    "# Multiple actions with args\n",
    "test_eq(parse_actions(\"func1|a=1.func2|b=2.func3\"), \n",
    "       L([(\"func1\", {\"a\": \"1\"}), (\"func2\", {\"b\": \"2\"}), (\"func3\", {})]))"
   ]
  },
  {
   "cell_type": "code",
   "execution_count": null,
   "metadata": {},
   "outputs": [],
   "source": [
    "# Complex example with spaces\n",
    "test_eq(parse_actions(\" download_html | timeout=30 . select | css=section#foundations . html2md \"), \n",
    "       L([\n",
    "           (\"download_html\", {\"timeout\": \"30\"}),\n",
    "           (\"select\", {\"css\": \"section#foundations\"}),\n",
    "           (\"html2md\", {})\n",
    "       ]))"
   ]
  },
  {
   "cell_type": "code",
   "execution_count": null,
   "metadata": {},
   "outputs": [],
   "source": [
    "# Empty string\n",
    "test_eq(parse_actions(\"\"), L([(\"\", {})]))"
   ]
  },
  {
   "cell_type": "markdown",
   "metadata": {},
   "source": [
    "Let's now look at calling actual functions based on our list of tuples representation of the action string.\n",
    "\n",
    "To understand this bit of code, we need to know what `Transform` from fastcore can do.\n",
    "\n",
    "Here is a basic example demonstrating its capabilities that we will use:\n",
    "\n",
    "from fastcore.transform import *\n",
    "\n",
    "### A simple transform that converts text to uppercase\n",
    "```\n",
    "class UpperCase(Transform):\n",
    "    def encodes(self, x): return x.upper()\n",
    "\n",
    "upper = UpperCase()\n",
    "test_eq(upper('hello'), 'HELLO')\n",
    "```\n",
    "\n",
    "### Transforms can be composed into a pipeline\n",
    "```\n",
    "class AddExclamation(Transform):\n",
    "    def encodes(self, x): return x + '!'\n",
    "    \n",
    "pipe = Pipeline([upper, AddExclamation()])\n",
    "test_eq(pipe('hello'), 'HELLO!')\n",
    "```\n",
    "\n",
    "The key features of Transform we'll be using are:\n",
    "- It provides a standard interface for functions that transform data\n",
    "- Transforms can be composed into pipelines\n",
    "- Each transform can have its own parameters\n",
    "- The pipeline handles passing output from one transform to the next\n",
    "\n",
    "In our recipe system, we'll use Transform to wrap our functions and create pipelines from our action strings. This gives us a clean way to chain operations while maintaining flexibility in how each operation works."
   ]
  },
  {
   "cell_type": "code",
   "execution_count": null,
   "metadata": {},
   "outputs": [],
   "source": [
    "#| export\n",
    "\n",
    "_registry = {}\n",
    "\n",
    "def recipe_transform(name=None):\n",
    "    \"Decorator to register a function as a recipe transform\"\n",
    "    def _inner(f):\n",
    "        fname = name or f.__name__\n",
    "        t = Transform(f)\n",
    "        t.__doc__ = f.__doc__  # Preserve the original docstring\n",
    "        _registry[fname] = t\n",
    "        return f\n",
    "    return _inner"
   ]
  },
  {
   "cell_type": "code",
   "execution_count": null,
   "metadata": {},
   "outputs": [],
   "source": [
    "#| exporti\n",
    "\n",
    "def get_transform(fname, kwargs):\n",
    "    \"Get a transform for function name with arguments\"\n",
    "    if fname not in _registry: \n",
    "        raise ValueError(f\"Transform {fname} not found. Available: {list(_registry.keys())}\")\n",
    "    return partialler(_registry[fname], **kwargs)"
   ]
  },
  {
   "cell_type": "code",
   "execution_count": null,
   "metadata": {},
   "outputs": [],
   "source": [
    "# Test transform registration\n",
    "@recipe_transform()\n",
    "def upper(x):\n",
    "    \"Convert input string to uppercase\"\n",
    "    return x.upper()\n",
    "\n",
    "@recipe_transform('lower')\n",
    "def _lower(x):\n",
    "    \"Convert input string to lowercase\"\n",
    "    return x.lower()\n",
    "\n",
    "# Check registry contents\n",
    "test_eq(list(_registry.keys()), ['upper', 'lower'])\n",
    "\n",
    "# Test transform retrieval and execution\n",
    "t1 = get_transform('upper', {})\n",
    "test_eq(t1('hello'), 'HELLO')\n",
    "\n",
    "t2 = get_transform('lower', {})\n",
    "test_eq(t2('HELLO'), 'hello')\n",
    "\n",
    "# Test transform with arguments\n",
    "@recipe_transform()\n",
    "def repeat(x, n=1):\n",
    "    \"Repeats the string `n` times\"\n",
    "    return x * int(n)\n",
    "\n",
    "t3 = get_transform('repeat', {'n': '3'})\n",
    "test_eq(t3('ha'), 'hahaha')\n",
    "\n",
    "# Test error for unknown transform\n",
    "try: get_transform('unknown', {})\n",
    "except ValueError as e: test_eq(str(e), f\"Transform unknown not found. Available: {list(_registry.keys())}\")"
   ]
  },
  {
   "cell_type": "markdown",
   "metadata": {},
   "source": [
    "The `create_pipeline` function is the heart of our recipe system. It takes an action string and creates a pipeline that can:\n",
    "1. Execute transforms in sequence, passing output from one to the next\n",
    "2. Handle nested recipes by detecting when a transform returns a `Recipes` collection\n",
    "3. Apply remaining transforms to each recipe in the collection"
   ]
  },
  {
   "cell_type": "code",
   "execution_count": null,
   "metadata": {},
   "outputs": [],
   "source": [
    "#| exporti\n",
    "\n",
    "def create_pipeline(actions_str):\n",
    "    \"Create a Transform pipeline from action string that handles Recipes\"\n",
    "    actions = parse_actions(actions_str)\n",
    "    transforms = L(actions).map(lambda x: get_transform(*x))\n",
    "    \n",
    "    def run_pipeline(x):\n",
    "        for i, t in enumerate(transforms):\n",
    "            x = t(x)\n",
    "            # If we get Recipes, apply remaining transforms to each recipe\n",
    "            if isinstance(x, Recipes):\n",
    "                remaining = '.'.join(f\"{n}|{','.join(f'{k}={v}' for k,v in kw.items())}\" \n",
    "                                   for n,kw in actions[i+1:])\n",
    "                if remaining:\n",
    "                    for r in x.recipes:\n",
    "                        r.actions = remaining\n",
    "                return x.run()\n",
    "        return x\n",
    "    \n",
    "    return run_pipeline"
   ]
  },
  {
   "cell_type": "code",
   "execution_count": null,
   "metadata": {},
   "outputs": [],
   "source": [
    "#| export\n",
    "\n",
    "class Recipes:\n",
    "    \"Collection of recipes that can be loaded from a file and executed together\"\n",
    "    def __init__(self, recipes=None):\n",
    "        self.recipes = L(recipes if recipes else [])\n",
    "    \n",
    "    @classmethod\n",
    "    def from_file(cls, path):\n",
    "        \"Load multiple recipes from a file with recipe blocks\"\n",
    "        p = Path(path)\n",
    "        text = p.read_text()\n",
    "        # Split on double newline to separate recipe blocks\n",
    "        blocks = L(text.split('\\n\\n')).map(str.strip).filter(bool)\n",
    "        \n",
    "        recipes = []\n",
    "        for block in blocks:\n",
    "            d = {}\n",
    "            for line in block.splitlines():\n",
    "                if ':' not in line: continue\n",
    "                k,v = line.split(':', 1)\n",
    "                d[k.strip()] = v.strip()\n",
    "            if d: recipes.append(Recipe(**d))\n",
    "        \n",
    "        return cls(recipes)\n",
    "    \n",
    "    def run(self, separator='\\n\\n'):\n",
    "        \"Run all recipes and combine their outputs with separator\"\n",
    "        return separator.join([r.run() for r in self.recipes])\n",
    "    \n",
    "    def __repr__(self):\n",
    "        return f\"Recipes({len(self.recipes)} recipes)\""
   ]
  },
  {
   "cell_type": "code",
   "execution_count": null,
   "metadata": {},
   "outputs": [],
   "source": [
    "# Register all transforms we need\n",
    "@recipe_transform()\n",
    "def double(x): \n",
    "    \"Multiply input by 2\"\n",
    "    return x * 2\n",
    "\n",
    "@recipe_transform()\n",
    "def upper(x):\n",
    "    \"Convert input string to uppercase\"\n",
    "    return x.upper()\n",
    "\n",
    "@recipe_transform()\n",
    "def split(x):\n",
    "    \"Split string into list of strings using optional separator\"\n",
    "    return x.split()\n",
    "\n",
    "@recipe_transform()\n",
    "def join(x, sep=' '):\n",
    "    \"Join list of strings using separator (default: space)\"\n",
    "    return sep.join(x)\n",
    "\n",
    "@recipe_transform()\n",
    "def split_into_two(x):\n",
    "    \"Split string into two equal parts. String length must be even.\"\n",
    "    assert len(x) % 2 == 0\n",
    "    return x[:len(x)//2], x[len(x)//2:]\n",
    "\n",
    "# Basic pipeline with single transform\n",
    "pipe1 = create_pipeline(\"double\")\n",
    "test_eq(pipe1(\"ha\"), \"haha\")\n",
    "\n",
    "# Pipeline with multiple transforms\n",
    "pipe2 = create_pipeline(\"double.upper\")\n",
    "test_eq(pipe2(\"ha\"), \"HAHA\")  # Fixed: double then upper\n",
    "\n",
    "# Pipeline with with arguments creating recipes\n",
    "pipe3 = create_pipeline(\"double.upper.split_into_two.join|sep=,\")\n",
    "test_eq(pipe3(\"ha\"), [\"H,A\", \"H,A\"])"
   ]
  },
  {
   "cell_type": "markdown",
   "metadata": {},
   "source": [
    "Let us also implement adding a `Recipe` to a `Recipe`.\n",
    "\n",
    "The resultant `Recipe` will first apply the actions from `Recipe#1` and then will process the output with actions from `Recipe#2`."
   ]
  },
  {
   "cell_type": "code",
   "execution_count": null,
   "metadata": {},
   "outputs": [],
   "source": [
    "#| export\n",
    "\n",
    "@patch\n",
    "def __add__(self:Recipe, other):\n",
    "    \"Combine two recipes, using output of self as input to other\"\n",
    "    name = f\"{self.name}_{other.name}\" if self.name and other.name else None\n",
    "    actions = f\"{self.actions}.{other.actions}\"\n",
    "    return self.__class__(name=name, input=self.input, actions=actions)    "
   ]
  },
  {
   "cell_type": "code",
   "execution_count": null,
   "metadata": {},
   "outputs": [],
   "source": [
    "# Test basic recipe combination\n",
    "r1 = Recipe(name='first', input='hello', actions='upper')\n",
    "r2 = Recipe(name='second', actions='split')\n",
    "combined = r1 + r2\n",
    "\n",
    "test_eq(combined.name, 'first_second')\n",
    "test_eq(combined.input, 'hello')\n",
    "test_eq(combined.actions, 'upper.split')\n",
    "\n",
    "# Test combining with missing names\n",
    "r3 = Recipe(input='world', actions='upper')\n",
    "r4 = Recipe(actions='split')\n",
    "combined_no_names = r3 + r4\n",
    "\n",
    "test_eq(combined_no_names.name, None)\n",
    "test_eq(combined_no_names.input, 'world')\n",
    "test_eq(combined_no_names.actions, 'upper.split')\n",
    "\n",
    "# Test combining with one missing name\n",
    "r5 = Recipe(name='named', input='test', actions='upper')\n",
    "r6 = Recipe(actions='split')\n",
    "combined_one_name = r5 + r6\n",
    "\n",
    "test_eq(combined_one_name.name, None)\n",
    "test_eq(combined_one_name.input, 'test')\n",
    "test_eq(combined_one_name.actions, 'upper.split')\n",
    "\n",
    "# Test chaining multiple combinations\n",
    "r7 = Recipe(name='first', input='hello', actions='upper')\n",
    "r8 = Recipe(name='second', actions='split')\n",
    "r9 = Recipe(name='third', actions='join|sep=,')\n",
    "chained = r7 + r8 + r9\n",
    "\n",
    "test_eq(chained.name, 'first_second_third')\n",
    "test_eq(chained.input, 'hello')\n",
    "test_eq(chained.actions, 'upper.split.join|sep=,')"
   ]
  },
  {
   "cell_type": "markdown",
   "metadata": {},
   "source": [
    "Now let's give our `Recipe` the ability to execute its actions."
   ]
  },
  {
   "cell_type": "code",
   "execution_count": null,
   "metadata": {},
   "outputs": [],
   "source": [
    "#| export\n",
    "\n",
    "@patch\n",
    "def run(self:Recipe):\n",
    "    \"Execute the recipe pipeline\"\n",
    "    if self.input is None:\n",
    "        raise ValueError(\"Recipe requires input to run\")\n",
    "    if not self.actions: return self.input\n",
    "    pipe = create_pipeline(self.actions)\n",
    "    return pipe(self.input)"
   ]
  },
  {
   "cell_type": "code",
   "execution_count": null,
   "metadata": {},
   "outputs": [],
   "source": [
    "# Test basic recipe execution\n",
    "r1 = Recipe(input='hello world', actions='upper')\n",
    "test_eq(r1.run(), 'HELLO WORLD')\n",
    "\n",
    "# Test recipe with multiple actions\n",
    "r2 = Recipe(input='hello world', actions='upper.split')\n",
    "test_eq(r2.run(), ['HELLO', 'WORLD'])\n",
    "\n",
    "# Test recipe with parameters\n",
    "r3 = Recipe(input='hello world', actions='upper.split.join|sep=,')\n",
    "test_eq(r3.run(), 'HELLO,WORLD')\n",
    "\n",
    "# Test recipe combination and execution\n",
    "r4 = Recipe(input='hello world', actions='upper')\n",
    "r5 = Recipe(actions='split.join|sep=_')\n",
    "combined = r4 + r5\n",
    "test_eq(combined.run(), 'HELLO_WORLD')\n",
    "\n",
    "# Test empty or None actions\n",
    "r6 = Recipe(input='hello', actions='')\n",
    "test_eq(r6.run(), 'hello')\n",
    "\n",
    "r7 = Recipe(input='hello', actions=None)\n",
    "test_eq(r7.run(), 'hello')\n",
    "\n",
    "# Test missing input scenarios\n",
    "test_fail(lambda: Recipe(actions='upper').run(), \n",
    "         contains=\"Recipe requires input to run\")\n",
    "\n",
    "test_fail(lambda: Recipe(input=None, actions='upper').run(), \n",
    "         contains=\"Recipe requires input to run\")\n",
    "\n",
    "# Test recipe with invalid action\n",
    "test_fail(lambda: Recipe(input='hello', actions='invalid').run(), \n",
    "         contains=\"Transform invalid not found\")"
   ]
  },
  {
   "cell_type": "code",
   "execution_count": null,
   "metadata": {},
   "outputs": [
    {
     "data": {
      "text/plain": [
       "{'upper': 'Convert input string to uppercase',\n",
       " 'lower': 'Convert input string to lowercase',\n",
       " 'repeat': 'Repeats the string `n` times',\n",
       " 'double': 'Multiply input by 2',\n",
       " 'split': 'Split string into list of strings using optional separator',\n",
       " 'join': 'Join list of strings using separator (default: space)',\n",
       " 'split_into_two': 'Split string into two equal parts. String length must be even.'}"
      ]
     },
     "execution_count": null,
     "metadata": {},
     "output_type": "execute_result"
    }
   ],
   "source": [
    "#| export\n",
    "\n",
    "def list_actions():\n",
    "    \"List all registered actions and their docstrings\"\n",
    "    return {name: func.__doc__ for name, func in _registry.items()}\n",
    "\n",
    "list_actions()"
   ]
  },
  {
   "cell_type": "code",
   "execution_count": null,
   "metadata": {},
   "outputs": [],
   "source": [
    "#| hide\n",
    "from nbdev.showdoc import *"
   ]
  },
  {
   "cell_type": "code",
   "execution_count": null,
   "metadata": {},
   "outputs": [],
   "source": [
    "#| hide\n",
    "import nbdev; nbdev.nbdev_export()"
   ]
  }
 ],
 "metadata": {
  "kernelspec": {
   "display_name": "python3",
   "language": "python",
   "name": "python3"
  }
 },
 "nbformat": 4,
 "nbformat_minor": 4
}
