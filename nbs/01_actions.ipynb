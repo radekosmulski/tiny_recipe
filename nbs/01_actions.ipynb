{
 "cells": [
  {
   "cell_type": "markdown",
   "metadata": {},
   "source": [
    "# actions\n",
    "\n",
    "> Predefined actions you can use in your project"
   ]
  },
  {
   "cell_type": "code",
   "execution_count": null,
   "metadata": {},
   "outputs": [],
   "source": [
    "#| default_exp actions"
   ]
  },
  {
   "cell_type": "code",
   "execution_count": null,
   "metadata": {},
   "outputs": [],
   "source": [
    "#| export\n",
    "from tiny_recipe.core import list_actions, recipe_transform, Recipe, Recipes\n",
    "\n",
    "from fastcore.test import *\n",
    "import httpx"
   ]
  },
  {
   "cell_type": "code",
   "execution_count": null,
   "metadata": {},
   "outputs": [],
   "source": [
    "#| export\n",
    "\n",
    "@recipe_transform()\n",
    "def download(url, timeout=30):\n",
    "    \"Download content from URL. Returns text content by default\"\n",
    "    import httpx\n",
    "    try:\n",
    "        response = httpx.get(url, timeout=float(timeout))\n",
    "        response.raise_for_status()  # Raise error for bad status codes\n",
    "        return response.text\n",
    "    except httpx.HTTPError as e:\n",
    "        raise ValueError(f\"Failed to download from {url}: {str(e)}\")"
   ]
  },
  {
   "cell_type": "code",
   "execution_count": null,
   "metadata": {},
   "outputs": [],
   "source": [
    "# Test the download action\n",
    "test_url = \"https://example.com\"\n",
    "result = download(test_url)\n",
    "\n",
    "test_eq('example' in result, True)  # Use test_eq instead of test_assert\n",
    "\n",
    "# Test error handling\n",
    "test_fail(lambda: download(\"https://thisdoesnotexist.example.com\"), \n",
    "          contains=\"Failed to download\")"
   ]
  },
  {
   "cell_type": "code",
   "execution_count": null,
   "metadata": {},
   "outputs": [],
   "source": [
    "#| export\n",
    "\n",
    "@recipe_transform()\n",
    "def select(html, css, first=True, text_only=False):\n",
    "    \"Select elements from HTML using CSS selector. Returns first match by default, or all matches if first=False. Use text_only=True to get only text content.\"\n",
    "    from bs4 import BeautifulSoup\n",
    "    soup = BeautifulSoup(html, 'html.parser')\n",
    "    results = soup.select(css)\n",
    "    if not results:\n",
    "        return None\n",
    "    \n",
    "    if text_only:\n",
    "        if first:\n",
    "            return results[0].get_text().strip()\n",
    "        return [r.get_text().strip() for r in results]\n",
    "    else:\n",
    "        if first:\n",
    "            return str(results[0])\n",
    "        return [str(r) for r in results]\n",
    "\n",
    "# Test basic selection\n",
    "html = \"\"\"\n",
    "<div class=\"content\">\n",
    "    <h1>Title</h1>\n",
    "    <p class=\"text\">First paragraph</p>\n",
    "    <p class=\"text\">Second paragraph</p>\n",
    "</div>\n",
    "\"\"\"\n",
    "\n",
    "# Test single element selection\n",
    "test_eq(select(html, \"h1\"), \"<h1>Title</h1>\")\n",
    "\n",
    "# Test multiple elements\n",
    "test_eq(select(html, \"p.text\", first=True),\n",
    "        '<p class=\"text\">First paragraph</p>')\n",
    "\n",
    "test_eq(select(html, \"p.text\", first=False), \n",
    "        ['<p class=\"text\">First paragraph</p>', \n",
    "         '<p class=\"text\">Second paragraph</p>'])\n",
    "\n",
    "# Test multiple elements with text_only\n",
    "test_eq(select(html, \"p.text\", first=False, text_only=True), \n",
    "        ['First paragraph', 'Second paragraph'])\n",
    "\n",
    "# Test no matches\n",
    "test_eq(select(html, \"span\"), None)\n",
    "\n",
    "# Test in pipeline with download\n",
    "test_url = \"https://example.com\"\n",
    "recipe = Recipe(\n",
    "    input=test_url,\n",
    "    actions=\"download.select|css=h1\"\n",
    ")\n",
    "result = recipe.run()\n",
    "test_eq(\"Example Domain\" in result, True)"
   ]
  },
  {
   "cell_type": "code",
   "execution_count": null,
   "metadata": {},
   "outputs": [],
   "source": [
    "#| export\n",
    "@recipe_transform()\n",
    "def youtube_captions(video_id, timestamps=\"True\"):\n",
    "    \"\"\"Get captions from a YouTube video.\n",
    "    Args:\n",
    "        video_id: YouTube video ID (e.g., 'abc123xyz' from 'youtube.com/watch?v=abc123xyz')\n",
    "        timestamps: \"True\" or \"False\" string to include timestamps in output (default: \"True\")\n",
    "    Returns:\n",
    "        String with video captions, optionally with timestamps\n",
    "    \"\"\"\n",
    "    from youtube_transcript_api import YouTubeTranscriptApi\n",
    "    try:\n",
    "        transcript = YouTubeTranscriptApi.get_transcript(video_id)\n",
    "        \n",
    "        if timestamps.lower() == \"true\":\n",
    "            return '\\n'.join(\n",
    "                f\"[{int(entry['start']//60)}:{int(entry['start']%60):02d}] {entry['text']}\"\n",
    "                for entry in transcript\n",
    "            )\n",
    "        return '\\n'.join(entry['text'] for entry in transcript)\n",
    "        \n",
    "    except Exception as e:\n",
    "        raise ValueError(f\"Failed to get captions for video {video_id}: {str(e)}\")\n",
    "\n",
    "# Test cases\n",
    "test_video = \"FcugVUydSBY\"  # MKBHD's 100 subscriber milestone video\n",
    "\n",
    "# Test basic functionality\n",
    "result = youtube_captions(test_video)\n",
    "test_eq(len(result) > 0, True)"
   ]
  },
  {
   "cell_type": "code",
   "execution_count": null,
   "metadata": {},
   "outputs": [],
   "source": [
    "test_eq('[' in result, True)  # Should have timestamps by default\n",
    "\n",
    "# Test without timestamps\n",
    "result_no_time = youtube_captions(test_video, timestamps=\"False\")\n",
    "test_eq('[' not in result_no_time.replace('[Music]', ''), True)"
   ]
  },
  {
   "cell_type": "code",
   "execution_count": null,
   "metadata": {},
   "outputs": [],
   "source": [
    "# Test error handling\n",
    "test_fail(lambda: youtube_captions(\"not_a_real_video_id\"), \n",
    "          contains=\"Failed to get captions\")\n",
    "\n",
    "# Test in a recipe\n",
    "recipe = Recipe(\n",
    "    input=test_video,\n",
    "    actions=\"youtube_captions|timestamps=True\"\n",
    ")\n",
    "result = recipe.run()\n",
    "test_eq(len(result) > 0, True)"
   ]
  },
  {
   "cell_type": "code",
   "execution_count": null,
   "metadata": {},
   "outputs": [],
   "source": [
    "#| export\n",
    "@recipe_transform()\n",
    "def extract_video_ids(html):\n",
    "    \"\"\"Extract YouTube video IDs from a playlist page.\n",
    "    Returns list of video IDs from video-title links.\n",
    "    \"\"\"\n",
    "    from bs4 import BeautifulSoup\n",
    "    import re\n",
    "    \n",
    "    soup = BeautifulSoup(html, 'html.parser')\n",
    "    # Find all video title links\n",
    "    links = soup.select('a#video-title')\n",
    "    \n",
    "    # Extract video IDs from hrefs using regex\n",
    "    video_ids = []\n",
    "    for link in links:\n",
    "        href = link.get('href', '')\n",
    "        # Match v= parameter in URL\n",
    "        if match := re.search(r'[?&]v=([^&]+)', href):\n",
    "            video_ids.append(match.group(1))\n",
    "    \n",
    "    return video_ids\n",
    "\n",
    "# Test with sample HTML\n",
    "sample_html = \"\"\"\n",
    "<div id=\"meta\">\n",
    "    <h3>\n",
    "        <a id=\"video-title\" href=\"/watch?v=QqZUzkPcU7A&list=123&index=1\">Video 1</a>\n",
    "    </h3>\n",
    "</div>\n",
    "<div id=\"meta\">\n",
    "    <h3>\n",
    "        <a id=\"video-title\" href=\"/watch?v=ABC123xyz&list=123&index=2\">Video 2</a>\n",
    "    </h3>\n",
    "</div>\n",
    "\"\"\"\n",
    "\n",
    "# Test basic extraction\n",
    "test_eq(extract_video_ids(sample_html), \n",
    "        ['QqZUzkPcU7A', 'ABC123xyz'])\n",
    "\n",
    "# Test empty page\n",
    "test_eq(extract_video_ids('<div></div>'), [])\n",
    "\n",
    "# Example usage in a recipe pipeline\n",
    "recipe = Recipe(\n",
    "    input=\"<playlist page html>\",\n",
    "    actions=\"extract_video_ids.youtube_captions\"\n",
    ")"
   ]
  },
  {
   "cell_type": "code",
   "execution_count": null,
   "metadata": {},
   "outputs": [],
   "source": [
    "# Get captions for all videos in a playlist\n",
    "recipe = Recipe(\n",
    "    input=\"https://www.youtube.com/playlist?list=PLfYUBJiXbdtS5Qc3IGnMql2-QZLHHD0g0\",\n",
    "    actions=\"download\"\n",
    ")\n",
    "out = recipe.run()"
   ]
  },
  {
   "cell_type": "code",
   "execution_count": null,
   "metadata": {},
   "outputs": [],
   "source": [
    "#| export\n",
    "@recipe_transform()\n",
    "def playlist_video_ids(playlist_url):\n",
    "    \"\"\"Extract video IDs from a YouTube playlist using pytube and create recipes for each video.\n",
    "    Args:\n",
    "        playlist_url: Full YouTube playlist URL\n",
    "    Returns:\n",
    "        Recipes object containing a recipe for each video\n",
    "    \"\"\"\n",
    "    from pytube import Playlist\n",
    "    try:\n",
    "        playlist = Playlist(playlist_url)\n",
    "        video_ids = [url.split('watch?v=')[1] for url in playlist.video_urls]\n",
    "        # Create a recipe for each video ID\n",
    "        return Recipes([Recipe(input=vid) for vid in video_ids])\n",
    "    except Exception as e:\n",
    "        raise ValueError(f\"Failed to get video IDs from playlist {playlist_url}: {str(e)}\")"
   ]
  },
  {
   "cell_type": "code",
   "execution_count": null,
   "metadata": {},
   "outputs": [],
   "source": [
    "# Test basic functionality\n",
    "test_playlist = 'https://www.youtube.com/playlist?list=PLfYUBJiXbdtS5Qc3IGnMql2-QZLHHD0g0'\n",
    "result = playlist_video_ids(test_playlist)\n",
    "test_eq(isinstance(result, Recipes), True)\n",
    "test_eq(len(result.recipes) > 0, True)\n",
    "test_eq(all(isinstance(r, Recipe) for r in result.recipes), True)\n",
    "test_eq(all(len(r.input) == 11 for r in result.recipes), True)  # YouTube IDs are 11 chars\n",
    "\n",
    "# Test error handling\n",
    "test_fail(lambda: playlist_video_ids(\"https://youtube.com/not_a_playlist\"), \n",
    "          contains=\"Failed to get video IDs\")"
   ]
  },
  {
   "cell_type": "code",
   "execution_count": null,
   "metadata": {},
   "outputs": [
    {
     "data": {
      "text/plain": [
       "\"hi I'm Jeremy Howard hi I'm johnf hi I'm\\nNate we wanted to give you a quick\\nintroduction here to fast HTML have a\\nlook at some of these things that we\\nmade so this first example is a chatbot\\nthat I made to interact with chbt uh may\\nneed to try out a styling library for\\nthese beautiful looking chat Bubbles and\\nthis is the entire source code there's\\nno other components to\\nit and this is an app that I made based\\noff of con's gamer life allows multiple\\nuh users to be able to play the game of\\nlife an\""
      ]
     },
     "execution_count": null,
     "metadata": {},
     "output_type": "execute_result"
    }
   ],
   "source": [
    "# Test in a recipe getting captions for all videos\n",
    "recipe = Recipe(\n",
    "    input=test_playlist,\n",
    "    actions=\"playlist_video_ids.youtube_captions|timestamps=False\"\n",
    ")\n",
    "concatenated_captions = recipe.run()\n",
    "concatenated_captions[:500]"
   ]
  },
  {
   "cell_type": "code",
   "execution_count": null,
   "metadata": {},
   "outputs": [],
   "source": [
    "#| hide\n",
    "from nbdev.showdoc import *"
   ]
  },
  {
   "cell_type": "code",
   "execution_count": null,
   "metadata": {},
   "outputs": [],
   "source": [
    "#| hide\n",
    "import nbdev; nbdev.nbdev_export()"
   ]
  }
 ],
 "metadata": {
  "kernelspec": {
   "display_name": "python3",
   "language": "python",
   "name": "python3"
  }
 },
 "nbformat": 4,
 "nbformat_minor": 4
}
